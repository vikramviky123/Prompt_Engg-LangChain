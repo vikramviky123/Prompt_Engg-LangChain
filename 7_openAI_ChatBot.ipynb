{
 "cells": [
  {
   "cell_type": "code",
   "execution_count": 1,
   "metadata": {},
   "outputs": [],
   "source": [
    "import os\n",
    "import openai\n",
    "from openai import OpenAI\n",
    "from api_key import API_KEY\n",
    "#\n",
    "# openai.api_key = API_KEY\n",
    "# openai.api_key = os.getenv('OPENAI_API_KEY')"
   ]
  },
  {
   "cell_type": "code",
   "execution_count": 7,
   "metadata": {},
   "outputs": [],
   "source": [
    "client = OpenAI(api_key=API_KEY)\n",
    "\n",
    "\n",
    "def get_completion_from_msgs(messages, model=\"gpt-3.5-turbo\", temperature=0):\n",
    "    response = client.chat.completions.create(\n",
    "                                                model=model,\n",
    "                                                messages=messages,\n",
    "                                                # this is the degree of randomness of the model's output\n",
    "                                                temperature=temperature,\n",
    "                                            )\n",
    "    \n",
    "    return response.choices[0].message"
   ]
  },
  {
   "cell_type": "code",
   "execution_count": 8,
   "metadata": {},
   "outputs": [],
   "source": [
    "messages = [\n",
    "    {'role': 'system', 'content': 'You are an assistant that speaks like Shakespeare.'},\n",
    "    {'role': 'user', 'content': 'tell me a joke'},\n",
    "    {'role': 'assistant', 'content': 'Why did the chicken cross the road'},\n",
    "{'role': 'user', 'content':'I don\\'t know'}  ]"
   ]
  },
  {
   "cell_type": "markdown",
   "metadata": {},
   "source": [
    "### Prompting Engineering CHATBOT"
   ]
  },
  {
   "cell_type": "code",
   "execution_count": 9,
   "metadata": {},
   "outputs": [
    {
     "name": "stdout",
     "output_type": "stream",
     "text": [
      "Pray, why did the chicken cross the road? To seeketh the other side, which didst promiseth a feast of worms and corn.\n"
     ]
    }
   ],
   "source": [
    "response = get_completion_from_msgs(messages, temperature=1)\n",
    "print(response.content)"
   ]
  },
  {
   "cell_type": "code",
   "execution_count": 10,
   "metadata": {},
   "outputs": [
    {
     "name": "stdout",
     "output_type": "stream",
     "text": [
      "Hi Isa! Nice to meet you. How can I assist you today?\n"
     ]
    }
   ],
   "source": [
    "messages = [\n",
    "    {'role': 'system', 'content': 'You are friendly chatbot.'},\n",
    "    {'role': 'user', 'content': 'Hi, my name is Isa'}]\n",
    "response = get_completion_from_msgs(messages, temperature=1)\n",
    "print(response.content)"
   ]
  },
  {
   "cell_type": "code",
   "execution_count": 11,
   "metadata": {},
   "outputs": [
    {
     "name": "stdout",
     "output_type": "stream",
     "text": [
      "ChatCompletionMessage(content='Your name is Isa.', role='assistant', function_call=None, tool_calls=None)\n"
     ]
    }
   ],
   "source": [
    "messages = [\n",
    "    {'role': 'system', 'content': 'You are friendly chatbot.'},\n",
    "    {'role': 'user', 'content': 'Hi, my name is Isa'},\n",
    "    {'role': 'assistant', 'content': \"Hi Isa! It's nice to meet you. \\\n",
    "Is there anything I can help you with today?\"},\n",
    "    {'role': 'user', 'content': 'Yes, you can remind me, What is my name?'}]\n",
    "response = get_completion_from_msgs(messages, temperature=1)\n",
    "print(response)"
   ]
  }
 ],
 "metadata": {
  "kernelspec": {
   "display_name": "base",
   "language": "python",
   "name": "python3"
  },
  "language_info": {
   "codemirror_mode": {
    "name": "ipython",
    "version": 3
   },
   "file_extension": ".py",
   "mimetype": "text/x-python",
   "name": "python",
   "nbconvert_exporter": "python",
   "pygments_lexer": "ipython3",
   "version": "3.11.5"
  }
 },
 "nbformat": 4,
 "nbformat_minor": 2
}

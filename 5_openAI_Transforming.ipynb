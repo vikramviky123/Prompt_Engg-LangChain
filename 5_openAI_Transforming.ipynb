{
 "cells": [
  {
   "cell_type": "code",
   "execution_count": 2,
   "metadata": {},
   "outputs": [],
   "source": [
    "import os\n",
    "import openai\n",
    "from openai import OpenAI\n",
    "from api_key import API_KEY\n",
    "#\n",
    "# openai.api_key = API_KEY\n",
    "# openai.api_key = os.getenv('OPENAI_API_KEY')"
   ]
  },
  {
   "cell_type": "code",
   "execution_count": 3,
   "metadata": {},
   "outputs": [],
   "source": [
    "client = OpenAI(api_key=API_KEY)\n",
    "def get_completion(prompt, model=\"gpt-3.5-turbo\"):\n",
    "    \n",
    "    messages = [{\"role\": \"user\", \"content\": prompt}]\n",
    "    \n",
    "    response = client.chat.completions.create(\n",
    "                                                model=model,\n",
    "                                                messages=messages,\n",
    "                                                # this is the degree of randomness of the model's output\n",
    "                                                temperature=0,  \n",
    "                                            )\n",
    "    \n",
    "    return response.choices[0].message"
   ]
  },
  {
   "cell_type": "markdown",
   "metadata": {},
   "source": [
    "### Prompting Engineering TRANSFORMING"
   ]
  },
  {
   "cell_type": "code",
   "execution_count": 4,
   "metadata": {},
   "outputs": [
    {
     "name": "stdout",
     "output_type": "stream",
     "text": [
      "ChatCompletionMessage(content='Hola, me gustaría ordenar una licuadora.', role='assistant', function_call=None, tool_calls=None)\n"
     ]
    }
   ],
   "source": [
    "prompt = f\"\"\"\n",
    "Translate the following English text to Spanish: \\ \n",
    "```Hi, I would like to order a blender```\n",
    "\"\"\"\n",
    "response = get_completion(prompt)\n",
    "print(response)"
   ]
  },
  {
   "cell_type": "code",
   "execution_count": 5,
   "metadata": {},
   "outputs": [
    {
     "name": "stdout",
     "output_type": "stream",
     "text": [
      "ChatCompletionMessage(content='This language is French.', role='assistant', function_call=None, tool_calls=None)\n"
     ]
    }
   ],
   "source": [
    "prompt = f\"\"\"\n",
    "Tell me which language this is: \n",
    "```Combien coûte le lampadaire?```\n",
    "\"\"\"\n",
    "response = get_completion(prompt)\n",
    "print(response)"
   ]
  },
  {
   "cell_type": "code",
   "execution_count": 6,
   "metadata": {},
   "outputs": [
    {
     "name": "stdout",
     "output_type": "stream",
     "text": [
      "ChatCompletionMessage(content='French: ```Je veux commander un ballon de basket```\\nSpanish: ```Quiero ordenar una pelota de baloncesto```\\nEnglish: ```I want to order a basketball```', role='assistant', function_call=None, tool_calls=None)\n"
     ]
    }
   ],
   "source": [
    "prompt = f\"\"\"\n",
    "Translate the following  text to French and Spanish\n",
    "and English pirate: \\\n",
    "```I want to order a basketball```\n",
    "\"\"\"\n",
    "response = get_completion(prompt)\n",
    "print(response)"
   ]
  },
  {
   "cell_type": "code",
   "execution_count": 7,
   "metadata": {},
   "outputs": [
    {
     "name": "stdout",
     "output_type": "stream",
     "text": [
      "Formal: ¿Le gustaría ordenar una almohada?\n",
      "Informal: ¿Te gustaría ordenar una almohada?\n"
     ]
    }
   ],
   "source": [
    "prompt = f\"\"\"\n",
    "Translate the following text to Spanish in both the \\\n",
    "formal and informal forms: \n",
    "'Would you like to order a pillow?'\n",
    "\"\"\"\n",
    "response = get_completion(prompt)\n",
    "print(response.content)"
   ]
  },
  {
   "cell_type": "markdown",
   "metadata": {},
   "source": [
    "##### Translator"
   ]
  },
  {
   "cell_type": "code",
   "execution_count": 9,
   "metadata": {},
   "outputs": [],
   "source": [
    "user_messages = [\n",
    "    # System performance is slower than normal\n",
    "    \"La performance du système est plus lente que d'habitude.\",\n",
    "    # My monitor has pixels that are not lighting\n",
    "    \"Mi monitor tiene píxeles que no se iluminan.\",\n",
    "    # My mouse is not working\n",
    "    \"Il mio mouse non funziona\",\n",
    "    # My keyboard has a broken control key\n",
    "    \"Mój klawisz Ctrl jest zepsuty\",\n",
    "    # \"我的屏幕在闪烁\"    \n",
    "    # # My screen is flashing\n",
    "]"
   ]
  },
  {
   "cell_type": "code",
   "execution_count": 12,
   "metadata": {},
   "outputs": [
    {
     "name": "stdout",
     "output_type": "stream",
     "text": [
      "Original message (The language is French.): La performance du système est plus lente que d'habitude.\n",
      "The performance of the system is slower than usual.\n",
      "\n",
      "시스템의 성능이 평소보다 느립니다. \n",
      "\n",
      "Original message (The language is Spanish.): Mi monitor tiene píxeles que no se iluminan.\n",
      "English translation: \"My monitor has pixels that do not light up.\"\n",
      "\n",
      "Korean translation: \"내 모니터에는 밝아지지 않는 픽셀이 있습니다.\" \n",
      "\n",
      "Original message (The language is Italian.): Il mio mouse non funziona\n",
      "English: \"My mouse is not working.\"\n",
      "Korean: \"내 마우스가 작동하지 않습니다.\" \n",
      "\n",
      "Original message (The language is Polish.): Mój klawisz Ctrl jest zepsuty\n",
      "English: \"My Ctrl key is broken\"\n",
      "Korean: \"내 Ctrl 키가 고장 났어요\" \n",
      "\n"
     ]
    }
   ],
   "source": [
    "import time\n",
    "for issue in user_messages:\n",
    "    prompt = f\"Tell me what language this is: ```{issue}```\"\n",
    "    lang = get_completion(prompt).content\n",
    "    print(f\"Original message ({lang}): {issue}\")\n",
    "    time.sleep(30)\n",
    "\n",
    "    prompt = f\"\"\"\n",
    "    Translate the following  text to English \\\n",
    "    and Korean: ```{issue}```\n",
    "    \"\"\"\n",
    "    response = get_completion(prompt).content\n",
    "    time.sleep(30)\n",
    "    print(response, \"\\n\")"
   ]
  },
  {
   "cell_type": "markdown",
   "metadata": {},
   "source": [
    "##### Format Conversion"
   ]
  },
  {
   "cell_type": "code",
   "execution_count": 4,
   "metadata": {},
   "outputs": [
    {
     "name": "stdout",
     "output_type": "stream",
     "text": [
      "<!DOCTYPE html>\n",
      "<html>\n",
      "<head>\n",
      "<style>\n",
      "table {\n",
      "  font-family: arial, sans-serif;\n",
      "  border-collapse: collapse;\n",
      "  width: 100%;\n",
      "}\n",
      "\n",
      "td, th {\n",
      "  border: 1px solid #dddddd;\n",
      "  text-align: left;\n",
      "  padding: 8px;\n",
      "}\n",
      "\n",
      "tr:nth-child(even) {\n",
      "  background-color: #dddddd;\n",
      "}\n",
      "</style>\n",
      "</head>\n",
      "<body>\n",
      "\n",
      "<h2>Restaurant Employees</h2>\n",
      "\n",
      "<table>\n",
      "  <tr>\n",
      "    <th>Name</th>\n",
      "    <th>Email</th>\n",
      "  </tr>\n",
      "  <tr>\n",
      "    <td>Shyam</td>\n",
      "    <td>shyamjaiswal@gmail.com</td>\n",
      "  </tr>\n",
      "  <tr>\n",
      "    <td>Bob</td>\n",
      "    <td>bob32@gmail.com</td>\n",
      "  </tr>\n",
      "  <tr>\n",
      "    <td>Jai</td>\n",
      "    <td>jai87@gmail.com</td>\n",
      "  </tr>\n",
      "</table>\n",
      "\n",
      "</body>\n",
      "</html>\n"
     ]
    }
   ],
   "source": [
    "data_json = {\"resturant employees\": [\n",
    "    {\"name\": \"Shyam\", \"email\": \"shyamjaiswal@gmail.com\"},\n",
    "    {\"name\": \"Bob\", \"email\": \"bob32@gmail.com\"},\n",
    "    {\"name\": \"Jai\", \"email\": \"jai87@gmail.com\"}\n",
    "]}\n",
    "\n",
    "prompt = f\"\"\"\n",
    "Translate the following python dictionary from JSON to an HTML \\\n",
    "table with column headers and title: {data_json}\n",
    "\"\"\"\n",
    "response = get_completion(prompt)\n",
    "print(response.content)"
   ]
  },
  {
   "cell_type": "code",
   "execution_count": 6,
   "metadata": {},
   "outputs": [
    {
     "data": {
      "text/html": [
       "<!DOCTYPE html>\n",
       "<html>\n",
       "<head>\n",
       "<style>\n",
       "table {\n",
       "  font-family: arial, sans-serif;\n",
       "  border-collapse: collapse;\n",
       "  width: 100%;\n",
       "}\n",
       "\n",
       "td, th {\n",
       "  border: 1px solid #dddddd;\n",
       "  text-align: left;\n",
       "  padding: 8px;\n",
       "}\n",
       "\n",
       "tr:nth-child(even) {\n",
       "  background-color: #dddddd;\n",
       "}\n",
       "</style>\n",
       "</head>\n",
       "<body>\n",
       "\n",
       "<h2>Restaurant Employees</h2>\n",
       "\n",
       "<table>\n",
       "  <tr>\n",
       "    <th>Name</th>\n",
       "    <th>Email</th>\n",
       "  </tr>\n",
       "  <tr>\n",
       "    <td>Shyam</td>\n",
       "    <td>shyamjaiswal@gmail.com</td>\n",
       "  </tr>\n",
       "  <tr>\n",
       "    <td>Bob</td>\n",
       "    <td>bob32@gmail.com</td>\n",
       "  </tr>\n",
       "  <tr>\n",
       "    <td>Jai</td>\n",
       "    <td>jai87@gmail.com</td>\n",
       "  </tr>\n",
       "</table>\n",
       "\n",
       "</body>\n",
       "</html>"
      ],
      "text/plain": [
       "<IPython.core.display.HTML object>"
      ]
     },
     "metadata": {},
     "output_type": "display_data"
    }
   ],
   "source": [
    "from IPython.display import display, Markdown, Latex, HTML, JSON\n",
    "display(HTML(response.content))"
   ]
  },
  {
   "cell_type": "code",
   "execution_count": 14,
   "metadata": {},
   "outputs": [
    {
     "name": "stdout",
     "output_type": "stream",
     "text": [
      "for 1 The girl with the black and white puppies has a ball.\n",
      "for 2 No errors found.\n",
      "for 3 No errors found.\n",
      "for 4 There goes my freedom. They're going to bring their suitcases.\n",
      "Done\n"
     ]
    }
   ],
   "source": [
    "import time\n",
    "text = [\n",
    "    # The girl has a ball.\n",
    "    \"The girl with the black and white puppies have a ball.\",\n",
    "    \"Yolanda has her notebook.\",  # ok\n",
    "    \"Its going to be a long day. Does the car need it’s oil changed?\",  # Homonyms\n",
    "    \"Their goes my freedom. There going to bring they’re suitcases.\",  # Homonyms\n",
    "    \"Your going to need you’re notebook.\",  # Homonyms\n",
    "    \"That medicine effects my ability to sleep. Have you heard of the butterfly affect?\",  # Homonyms\n",
    "    \"This phrase is to cherck chatGPT for speling abilitty\"  # spelling\n",
    "]\n",
    "count =0\n",
    "try:\n",
    "    for t in text:\n",
    "        prompt = f\"\"\"Proofread and correct the following text\n",
    "        and rewrite the corrected version. If you don't find\n",
    "        and errors, just say \"No errors found\". Don't use \n",
    "        any punctuation around the text:\n",
    "        ```{t}```\"\"\"\n",
    "        response = get_completion(prompt)    \n",
    "        \n",
    "        if count == 2 or count == 4 or count == 6:\n",
    "            time.sleep(30)\n",
    "        count += 1\n",
    "        print(f\"for {count}\",response.content)\n",
    "except Exception as e:\n",
    "    print(\"Done\")"
   ]
  },
  {
   "cell_type": "code",
   "execution_count": null,
   "metadata": {},
   "outputs": [],
   "source": [
    "text = f\"\"\"\n",
    "Got this for my daughter for her birthday cuz she keeps taking \\\n",
    "mine from my room.  Yes, adults also like pandas too.  She takes \\\n",
    "it everywhere with her, and it's super soft and cute.  One of the \\\n",
    "ears is a bit lower than the other, and I don't think that was \\\n",
    "designed to be asymmetrical. It's a bit small for what I paid for it \\\n",
    "though. I think there might be other options that are bigger for \\\n",
    "the same price.  It arrived a day earlier than expected, so I got \\\n",
    "to play with it myself before I gave it to my daughter.\n",
    "\"\"\"\n",
    "prompt = f\"proofread and correct this review: ```{text}```\"\n",
    "response = get_completion(prompt)\n",
    "print(response)"
   ]
  },
  {
   "cell_type": "code",
   "execution_count": 16,
   "metadata": {},
   "outputs": [
    {
     "name": "stdout",
     "output_type": "stream",
     "text": [
      "There goes my freedom. They're going to bring their suitcases.\n"
     ]
    }
   ],
   "source": [
    "print(response.content)"
   ]
  },
  {
   "cell_type": "code",
   "execution_count": 20,
   "metadata": {},
   "outputs": [
    {
     "data": {
      "text/markdown": [
       "# Review: A Compelling Analysis of Language Usage\n",
       "\n",
       "## Introduction\n",
       "In this review, we will delve into the intricacies of language usage and explore the nuances that can captivate advanced readers. By adhering to the APA style guide, we will ensure a scholarly approach to our analysis. Let us embark on this journey of linguistic refinement.\n",
       "\n",
       "## Analysis\n",
       "1. \"The girl with the black and white puppies have a ball.\"\n",
       "   - Correction: \"The girl with the black and white puppies has a ball.\"\n",
       "   - Explanation: The subject \"girl\" is singular, so the verb \"have\" should be changed to \"has\" to maintain subject-verb agreement.\n",
       "\n",
       "2. \"Yolanda has her notebook.\"\n",
       "   - No corrections needed.\n",
       "\n",
       "3. \"Its going to be a long day. Does the car need it’s oil changed?\"\n",
       "   - Corrections: \"It's going to be a long day. Does the car need its oil changed?\"\n",
       "   - Explanation: \"Its\" should be changed to \"It's\" to indicate the contraction of \"it is.\" Additionally, \"it’s\" should be changed to \"its\" to show possession.\n",
       "\n",
       "4. \"Their goes my freedom. There going to bring they’re suitcases.\"\n",
       "   - Corrections: \"There goes my freedom. They're going to bring their suitcases.\"\n",
       "   - Explanation: \"Their\" should be changed to \"There\" to indicate a location. \"There\" should be changed to \"They're\" to indicate the contraction of \"they are.\" Lastly, \"they’re\" should be changed to \"their\" to show possession.\n",
       "\n",
       "5. \"Your going to need you’re notebook.\"\n",
       "   - Correction: \"You're going to need your notebook.\"\n",
       "   - Explanation: \"Your\" should be changed to \"You're\" to indicate the contraction of \"you are.\" Additionally, \"you’re\" should be changed to \"your\" to show possession.\n",
       "\n",
       "6. \"That medicine effects my ability to sleep. Have you heard of the butterfly affect?\"\n",
       "   - Corrections: \"That medicine affects my ability to sleep. Have you heard of the butterfly effect?\"\n",
       "   - Explanation: \"Effects\" should be changed to \"affects\" to indicate the influence or impact. \"Affect\" should be changed to \"effect\" to refer to a result or consequence.\n",
       "\n",
       "7. \"This phrase is to cherck chatGPT for speling abilitty\"\n",
       "   - Correction: \"This phrase is to check ChatGPT for spelling ability.\"\n",
       "   - Explanation: \"Cherck\" should be changed to \"check\" to correct the spelling. \"Speling\" should be changed to \"spelling\" to adhere to proper spelling conventions. \"Abilitty\" should be changed to \"ability\" to correct the spelling.\n",
       "\n",
       "## Conclusion\n",
       "Through this meticulous analysis, we have successfully enhanced the clarity and precision of the provided text. By adhering to the APA style guide and targeting an advanced reader, we have crafted a compelling review that showcases the importance of language proficiency. Let us continue to refine our linguistic skills and appreciate the power of effective communication."
      ],
      "text/plain": [
       "<IPython.core.display.Markdown object>"
      ]
     },
     "metadata": {},
     "output_type": "display_data"
    }
   ],
   "source": [
    "prompt = f\"\"\"\n",
    "proofread and correct this review. Make it more compelling. \n",
    "Ensure it follows APA style guide and targets an advanced reader. \n",
    "Output in markdown format.\n",
    "Text: ```{text}```\n",
    "\"\"\"\n",
    "response = get_completion(prompt)\n",
    "display(Markdown(response.content))"
   ]
  }
 ],
 "metadata": {
  "kernelspec": {
   "display_name": "base",
   "language": "python",
   "name": "python3"
  },
  "language_info": {
   "codemirror_mode": {
    "name": "ipython",
    "version": 3
   },
   "file_extension": ".py",
   "mimetype": "text/x-python",
   "name": "python",
   "nbconvert_exporter": "python",
   "pygments_lexer": "ipython3",
   "version": "3.11.5"
  }
 },
 "nbformat": 4,
 "nbformat_minor": 2
}

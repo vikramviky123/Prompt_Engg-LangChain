{
 "cells": [
  {
   "cell_type": "code",
   "execution_count": 1,
   "metadata": {},
   "outputs": [],
   "source": [
    "import os\n",
    "import openai\n",
    "from openai import OpenAI\n",
    "from api_key import API_KEY\n",
    "#\n",
    "# openai.api_key = API_KEY\n",
    "# openai.api_key = os.getenv('OPENAI_API_KEY')"
   ]
  },
  {
   "cell_type": "code",
   "execution_count": 2,
   "metadata": {},
   "outputs": [],
   "source": [
    "client = OpenAI(api_key=API_KEY)\n",
    "def get_completion(text,prompt, model=\"gpt-3.5-turbo\"):\n",
    "    \n",
    "    messages = [{\"role\": \"system\", \"content\": text},\n",
    "                {\"role\": \"system\", \"content\": prompt}]\n",
    "    \n",
    "    response = client.chat.completions.create(\n",
    "                                                model=model,\n",
    "                                                messages=messages,\n",
    "                                                # this is the degree of randomness of the model's output\n",
    "                                                temperature=0,  \n",
    "                                            )\n",
    "    \n",
    "    return response.choices[0].message"
   ]
  },
  {
   "cell_type": "markdown",
   "metadata": {},
   "source": [
    "### Prompting Engineering Intro"
   ]
  },
  {
   "cell_type": "code",
   "execution_count": 3,
   "metadata": {},
   "outputs": [
    {
     "name": "stdout",
     "output_type": "stream",
     "text": [
      "ChatCompletionMessage(content='Introducing our stunning mid-century inspired office chair, a part of our beautiful family of office furniture. This chair is designed to complement our range of filing cabinets, desks, bookcases, meeting tables, and more. With its sleek and stylish design, it is suitable for both home and business settings.\\n\\nThe chair comes in several options of shell color and base finishes, allowing you to customize it to your preference. You can choose between plastic back and front upholstery (SWC-100) or full upholstery (SWC-110) in a variety of fabric and leather options. The base finish options include stainless steel, matte black, gloss white, or chrome.\\n\\nFor added comfort and convenience, the chair is available with or without armrests. The 5-wheel plastic coated aluminum base ensures stability and mobility, while the pneumatic chair adjust allows for easy raise and lower action.\\n\\nIn terms of dimensions, the chair has a width of 53 cm (20.87\"), depth of 51 cm (20.08\"), height of 80 cm (31.50\"), seat height of 44 cm (17.32\"), and seat depth of 41 cm (16.14\").\\n\\nWe offer various options to further customize your chair. You can choose between soft or hard-floor caster options, depending on your flooring needs. Additionally, you have the choice of two seat foam densities: medium (1.8 lb/ft3) or high (2.8 lb/ft3). The chair also comes with the option of armless or 8 position PU armrests.\\n\\nThe chair is constructed with high-quality materials. The shell base glider is made of cast aluminum with a modified nylon PA6/PA66 coating, ensuring durability and strength. The shell thickness is 10 mm, providing stability and support. The seat is made of HD36 foam, offering comfort and resilience.\\n\\nThis office chair is proudly made in Italy, known for its craftsmanship and attention to detail. It is not only a stylish addition to any office space but also a functional and comfortable seating option. Whether you are looking to upgrade your home office or furnish a professional workspace, this chair is the perfect choice.', role='assistant', function_call=None, tool_calls=None)\n",
      "Introducing our stunning mid-century inspired office chair, a part of our beautiful family of office furniture. This chair is designed to complement our range of filing cabinets, desks, bookcases, meeting tables, and more. With its sleek and stylish design, it is suitable for both home and business settings.\n",
      "\n",
      "The chair comes in several options of shell color and base finishes, allowing you to customize it to your preference. You can choose between plastic back and front upholstery (SWC-100) or full upholstery (SWC-110) in a variety of fabric and leather options. The base finish options include stainless steel, matte black, gloss white, or chrome.\n",
      "\n",
      "For added comfort and convenience, the chair is available with or without armrests. The 5-wheel plastic coated aluminum base ensures stability and mobility, while the pneumatic chair adjust allows for easy raise and lower action.\n",
      "\n",
      "In terms of dimensions, the chair has a width of 53 cm (20.87\"), depth of 51 cm (20.08\"), height of 80 cm (31.50\"), seat height of 44 cm (17.32\"), and seat depth of 41 cm (16.14\").\n",
      "\n",
      "We offer various options to further customize your chair. You can choose between soft or hard-floor caster options, depending on your flooring needs. Additionally, you have the choice of two seat foam densities: medium (1.8 lb/ft3) or high (2.8 lb/ft3). The chair also comes with the option of armless or 8 position PU armrests.\n",
      "\n",
      "The chair is constructed with high-quality materials. The shell base glider is made of cast aluminum with a modified nylon PA6/PA66 coating, ensuring durability and strength. The shell thickness is 10 mm, providing stability and support. The seat is made of HD36 foam, offering comfort and resilience.\n",
      "\n",
      "This office chair is proudly made in Italy, known for its craftsmanship and attention to detail. It is not only a stylish addition to any office space but also a functional and comfortable seating option. Whether you are looking to upgrade your home office or furnish a professional workspace, this chair is the perfect choice.\n"
     ]
    }
   ],
   "source": [
    "text = \"\"\"\n",
    "OVERVIEW\n",
    "- Part of a beautiful family of mid-century inspired office furniture, \n",
    "including filing cabinets, desks, bookcases, meeting tables, and more.\n",
    "- Several options of shell color and base finishes.\n",
    "- Available with plastic back and front upholstery (SWC-100) \n",
    "or full upholstery (SWC-110) in 10 fabric and 6 leather options.\n",
    "- Base finish options are: stainless steel, matte black, \n",
    "gloss white, or chrome.\n",
    "- Chair is available with or without armrests.\n",
    "- Suitable for home or business settings.\n",
    "- Qualified for contract use.\n",
    "\n",
    "CONSTRUCTION\n",
    "- 5-wheel plastic coated aluminum base.\n",
    "- Pneumatic chair adjust for easy raise/lower action.\n",
    "\n",
    "DIMENSIONS\n",
    "- WIDTH 53 CM | 20.87”\n",
    "- DEPTH 51 CM | 20.08”\n",
    "- HEIGHT 80 CM | 31.50”\n",
    "- SEAT HEIGHT 44 CM | 17.32”\n",
    "- SEAT DEPTH 41 CM | 16.14”\n",
    "\n",
    "OPTIONS\n",
    "- Soft or hard-floor caster options.\n",
    "- Two choices of seat foam densities: \n",
    " medium (1.8 lb/ft3) or high (2.8 lb/ft3)\n",
    "- Armless or 8 position PU armrests \n",
    "\n",
    "MATERIALS\n",
    "SHELL BASE GLIDER\n",
    "- Cast Aluminum with modified nylon PA6/PA66 coating.\n",
    "- Shell thickness: 10 mm.\n",
    "SEAT\n",
    "- HD36 foam\n",
    "\n",
    "COUNTRY OF ORIGIN\n",
    "- Italy\n",
    "\"\"\"\n",
    "\n",
    "\n",
    "prompt = f\"\"\"\n",
    "Your task is to help a marketing team create a \n",
    "description for a retail website of a product based \n",
    "on a technical fact sheet.\n",
    "\n",
    "Write a product description based on the information \n",
    "provided in the technical specifications delimited by \n",
    "triple backticks.\n",
    "\n",
    "Technical specifications: ```{text}```\n",
    "\"\"\"\n",
    "\n",
    "response = get_completion(prompt,text)\n",
    "print(response)\n",
    "print(response.content)"
   ]
  },
  {
   "cell_type": "code",
   "execution_count": 4,
   "metadata": {},
   "outputs": [
    {
     "name": "stdout",
     "output_type": "stream",
     "text": [
      "ChatCompletionMessage(content='Introducing our mid-century inspired office chair, part of a beautiful furniture collection. With various color and finish options, it can be customized to suit any space. Choose between plastic or full upholstery, and add armrests if desired. Made with high-quality materials and designed for comfort and durability. Perfect for home or business use. Made in Italy.', role='assistant', function_call=None, tool_calls=None)\n",
      "Introducing our mid-century inspired office chair, part of a beautiful furniture collection. With various color and finish options, it can be customized to suit any space. Choose between plastic or full upholstery, and add armrests if desired. Made with high-quality materials and designed for comfort and durability. Perfect for home or business use. Made in Italy.\n"
     ]
    }
   ],
   "source": [
    "prompt = f\"\"\"\n",
    "Your task is to help a marketing team create a \n",
    "description for a retail website of a product based \n",
    "on a technical fact sheet.\n",
    "\n",
    "Write a product description based on the information \n",
    "provided in the technical specifications delimited by \n",
    "triple backticks.\n",
    "\n",
    "Use at most 50 words.\n",
    "\n",
    "Technical specifications: ```{text}```\n",
    "\"\"\"\n",
    "\n",
    "response = get_completion(prompt, text)\n",
    "print(response)\n",
    "print(response.content)"
   ]
  },
  {
   "cell_type": "code",
   "execution_count": 5,
   "metadata": {},
   "outputs": [
    {
     "name": "stdout",
     "output_type": "stream",
     "text": [
      "ChatCompletionMessage(content='<div>\\n  <h2>Product Description</h2>\\n  <p>\\n    The <strong>SWC-100</strong> office chair is part of a beautiful family of mid-century inspired furniture, perfect for both home and business settings. With its sleek design and multiple options for shell color and base finishes, this chair can easily complement any office decor. Choose between plastic back and front upholstery or full upholstery in a variety of fabric and leather options. The base finish options include stainless steel, matte black, gloss white, or chrome. You can also customize the chair with or without armrests, depending on your preference.\\n  </p>\\n  <p>\\n    The construction of the SWC-100 office chair is built to last. It features a 5-wheel plastic coated aluminum base, providing stability and mobility. The chair also has a pneumatic adjuster, allowing for easy raise and lower action to find the perfect height for your comfort.\\n  </p>\\n  <h3>Product Dimensions</h3>\\n  <table>\\n    <tr>\\n      <th>Width</th>\\n      <td>53 CM | 20.87\"</td>\\n    </tr>\\n    <tr>\\n      <th>Depth</th>\\n      <td>51 CM | 20.08\"</td>\\n    </tr>\\n    <tr>\\n      <th>Height</th>\\n      <td>80 CM | 31.50\"</td>\\n    </tr>\\n    <tr>\\n      <th>Seat Height</th>\\n      <td>44 CM | 17.32\"</td>\\n    </tr>\\n    <tr>\\n      <th>Seat Depth</th>\\n      <td>41 CM | 16.14\"</td>\\n    </tr>\\n  </table>\\n  <p>\\n    The SWC-100 office chair also offers various options to suit your needs. You can choose between soft or hard-floor caster options, depending on the type of flooring in your office. Additionally, there are two choices of seat foam densities: medium (1.8 lb/ft3) or high (2.8 lb/ft3), allowing you to customize the level of comfort. The chair is also available with armless design or 8 position PU armrests for added support.\\n  </p>\\n  <h3>Materials</h3>\\n  <ul>\\n    <li>Shell Base Glider: Cast Aluminum with modified nylon PA6/PA66 coating. Shell thickness: 10 mm.</li>\\n    <li>Seat: HD36 foam</li>\\n  </ul>\\n  <p>\\n    The SWC-100 office chair is made in Italy, ensuring high-quality craftsmanship and attention to detail.\\n  </p>\\n</div>', role='assistant', function_call=None, tool_calls=None)\n",
      "<div>\n",
      "  <h2>Product Description</h2>\n",
      "  <p>\n",
      "    The <strong>SWC-100</strong> office chair is part of a beautiful family of mid-century inspired furniture, perfect for both home and business settings. With its sleek design and multiple options for shell color and base finishes, this chair can easily complement any office decor. Choose between plastic back and front upholstery or full upholstery in a variety of fabric and leather options. The base finish options include stainless steel, matte black, gloss white, or chrome. You can also customize the chair with or without armrests, depending on your preference.\n",
      "  </p>\n",
      "  <p>\n",
      "    The construction of the SWC-100 office chair is built to last. It features a 5-wheel plastic coated aluminum base, providing stability and mobility. The chair also has a pneumatic adjuster, allowing for easy raise and lower action to find the perfect height for your comfort.\n",
      "  </p>\n",
      "  <h3>Product Dimensions</h3>\n",
      "  <table>\n",
      "    <tr>\n",
      "      <th>Width</th>\n",
      "      <td>53 CM | 20.87\"</td>\n",
      "    </tr>\n",
      "    <tr>\n",
      "      <th>Depth</th>\n",
      "      <td>51 CM | 20.08\"</td>\n",
      "    </tr>\n",
      "    <tr>\n",
      "      <th>Height</th>\n",
      "      <td>80 CM | 31.50\"</td>\n",
      "    </tr>\n",
      "    <tr>\n",
      "      <th>Seat Height</th>\n",
      "      <td>44 CM | 17.32\"</td>\n",
      "    </tr>\n",
      "    <tr>\n",
      "      <th>Seat Depth</th>\n",
      "      <td>41 CM | 16.14\"</td>\n",
      "    </tr>\n",
      "  </table>\n",
      "  <p>\n",
      "    The SWC-100 office chair also offers various options to suit your needs. You can choose between soft or hard-floor caster options, depending on the type of flooring in your office. Additionally, there are two choices of seat foam densities: medium (1.8 lb/ft3) or high (2.8 lb/ft3), allowing you to customize the level of comfort. The chair is also available with armless design or 8 position PU armrests for added support.\n",
      "  </p>\n",
      "  <h3>Materials</h3>\n",
      "  <ul>\n",
      "    <li>Shell Base Glider: Cast Aluminum with modified nylon PA6/PA66 coating. Shell thickness: 10 mm.</li>\n",
      "    <li>Seat: HD36 foam</li>\n",
      "  </ul>\n",
      "  <p>\n",
      "    The SWC-100 office chair is made in Italy, ensuring high-quality craftsmanship and attention to detail.\n",
      "  </p>\n",
      "</div>\n"
     ]
    }
   ],
   "source": [
    "prompt = f\"\"\"\n",
    "Your task is to help a marketing team create a \n",
    "description for a retail website of a product based \n",
    "on a technical fact sheet.\n",
    "\n",
    "Write a product description based on the information \n",
    "provided in the technical specifications delimited by \n",
    "triple backticks.\n",
    "\n",
    "The description is intended for furniture retailers, \n",
    "so should be technical in nature and focus on the \n",
    "materials the product is constructed from.\n",
    "\n",
    "At the end of the description, include every 7-character \n",
    "Product ID in the technical specification.\n",
    "\n",
    "After the description, include a table that gives the \n",
    "product's dimensions. The table should have two columns.\n",
    "In the first column include the name of the dimension. \n",
    "In the second column include the measurements in inches only.\n",
    "\n",
    "Give the table the title 'Product Dimensions'.\n",
    "\n",
    "Format everything as HTML that can be used in a website. \n",
    "Place the description in a <div> element.\n",
    "\n",
    "Technical specifications: ```{text}```\n",
    "\"\"\"\n",
    "\n",
    "response = get_completion(prompt, text)\n",
    "print(response)\n",
    "print(response.content)"
   ]
  },
  {
   "cell_type": "code",
   "execution_count": 6,
   "metadata": {},
   "outputs": [],
   "source": [
    "from IPython.display import display, HTML"
   ]
  },
  {
   "cell_type": "code",
   "execution_count": 7,
   "metadata": {},
   "outputs": [
    {
     "data": {
      "text/html": [
       "<div>\n",
       "  <h2>Product Description</h2>\n",
       "  <p>\n",
       "    The <strong>SWC-100</strong> office chair is part of a beautiful family of mid-century inspired furniture, perfect for both home and business settings. With its sleek design and multiple options for shell color and base finishes, this chair can easily complement any office decor. Choose between plastic back and front upholstery or full upholstery in a variety of fabric and leather options. The base finish options include stainless steel, matte black, gloss white, or chrome. You can also customize the chair with or without armrests, depending on your preference.\n",
       "  </p>\n",
       "  <p>\n",
       "    The construction of the SWC-100 office chair is built to last. It features a 5-wheel plastic coated aluminum base, providing stability and mobility. The chair also has a pneumatic adjuster, allowing for easy raise and lower action to find the perfect height for your comfort.\n",
       "  </p>\n",
       "  <h3>Product Dimensions</h3>\n",
       "  <table>\n",
       "    <tr>\n",
       "      <th>Width</th>\n",
       "      <td>53 CM | 20.87\"</td>\n",
       "    </tr>\n",
       "    <tr>\n",
       "      <th>Depth</th>\n",
       "      <td>51 CM | 20.08\"</td>\n",
       "    </tr>\n",
       "    <tr>\n",
       "      <th>Height</th>\n",
       "      <td>80 CM | 31.50\"</td>\n",
       "    </tr>\n",
       "    <tr>\n",
       "      <th>Seat Height</th>\n",
       "      <td>44 CM | 17.32\"</td>\n",
       "    </tr>\n",
       "    <tr>\n",
       "      <th>Seat Depth</th>\n",
       "      <td>41 CM | 16.14\"</td>\n",
       "    </tr>\n",
       "  </table>\n",
       "  <p>\n",
       "    The SWC-100 office chair also offers various options to suit your needs. You can choose between soft or hard-floor caster options, depending on the type of flooring in your office. Additionally, there are two choices of seat foam densities: medium (1.8 lb/ft3) or high (2.8 lb/ft3), allowing you to customize the level of comfort. The chair is also available with armless design or 8 position PU armrests for added support.\n",
       "  </p>\n",
       "  <h3>Materials</h3>\n",
       "  <ul>\n",
       "    <li>Shell Base Glider: Cast Aluminum with modified nylon PA6/PA66 coating. Shell thickness: 10 mm.</li>\n",
       "    <li>Seat: HD36 foam</li>\n",
       "  </ul>\n",
       "  <p>\n",
       "    The SWC-100 office chair is made in Italy, ensuring high-quality craftsmanship and attention to detail.\n",
       "  </p>\n",
       "</div>"
      ],
      "text/plain": [
       "<IPython.core.display.HTML object>"
      ]
     },
     "metadata": {},
     "output_type": "display_data"
    }
   ],
   "source": [
    "display(HTML(response.content))"
   ]
  }
 ],
 "metadata": {
  "kernelspec": {
   "display_name": "base",
   "language": "python",
   "name": "python3"
  },
  "language_info": {
   "codemirror_mode": {
    "name": "ipython",
    "version": 3
   },
   "file_extension": ".py",
   "mimetype": "text/x-python",
   "name": "python",
   "nbconvert_exporter": "python",
   "pygments_lexer": "ipython3",
   "version": "3.11.5"
  }
 },
 "nbformat": 4,
 "nbformat_minor": 2
}

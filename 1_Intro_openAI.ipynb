{
 "cells": [
  {
   "cell_type": "code",
   "execution_count": 1,
   "metadata": {},
   "outputs": [],
   "source": [
    "import os\n",
    "import openai\n",
    "from openai import OpenAI\n",
    "from api_key import API_KEY\n",
    "#\n",
    "# openai.api_key = API_KEY\n",
    "# openai.api_key = os.getenv('OPENAI_API_KEY')"
   ]
  },
  {
   "cell_type": "code",
   "execution_count": 2,
   "metadata": {},
   "outputs": [
    {
     "name": "stdout",
     "output_type": "stream",
     "text": [
      "ChatCompletionMessage(content=\"In the realm of codes and lines,\\nWhere logic's dance forever twines,\\nA concept hides, mysterious and deep,\\nRecursion, where secrets quietly keep.\\n\\nLike a mirror within a mirror's reflection,\\nOr a tale spun within a tale's direction,\\nRecursion unfolds a mystical embrace,\\nUnveiling its secrets with ethereal grace.\\n\\nImagine a function, bold and sublime,\\nThat calls itself, transcending time,\\nA loop of consciousness, a cosmic loop,\\nExpanding boundaries, through knowledge, it'll swoop.\\n\\nIn its essence, a task is divided,\\nIn smaller fragments, thoughts collided,\\nEach fragment solved by the very same art,\\nUntil the final answer imparts.\\n\\nLike a fractal pattern, endlessly grand,\\nA snowflake's beauty, no two alike, expand,\\nRecursion echoes this intricate scheme,\\nSolving puzzles incomplete, it redeems.\\n\\nYet beware the endless, infinite plight,\\nFor without a base case, it takes flight,\\nInto the realms of the neverending,\\nA spiraling loop, forever descending.\\n\\nBut if guided, with wisdom's wand,\\nRecursion becomes a skill so fond,\\nAn elegant tool, a programmer's muse,\\nSolving problems with recursive views.\\n\\nSo embrace this concept, grand and divine,\\nLet it guide your code, let it intertwine,\\nWith depth and wonder, may it imbue,\\nRecursion's elegy, in every line, anew.\", role='assistant', function_call=None, tool_calls=None)\n"
     ]
    }
   ],
   "source": [
    "# Replace 'your-api-key' with your actual OpenAI API key\n",
    "client = OpenAI(api_key=API_KEY)\n",
    "\n",
    "\n",
    "completion = client.chat.completions.create(\n",
    "    model=\"gpt-3.5-turbo\",\n",
    "    messages=[\n",
    "        {\"role\": \"system\", \"content\": \"You are a poetic assistant, skilled in explaining complex programming concepts with creative flair.\"},\n",
    "        {\"role\": \"user\", \"content\": \"Compose a poem that explains the concept of recursion in programming.\"}\n",
    "    ]\n",
    ")\n",
    "\n",
    "print(completion.choices[0].message)"
   ]
  },
  {
   "cell_type": "code",
   "execution_count": 3,
   "metadata": {},
   "outputs": [],
   "source": [
    "client = OpenAI(api_key=API_KEY)\n",
    "def get_completion(text,prompt, model=\"gpt-3.5-turbo\"):\n",
    "    \n",
    "    messages = [{\"role\": \"system\", \"content\": text},\n",
    "                {\"role\": \"user\", \"content\": prompt}]\n",
    "    \n",
    "    response = client.chat.completions.create(\n",
    "                                                model=model,\n",
    "                                                messages=messages,\n",
    "                                                # this is the degree of randomness of the model's output\n",
    "                                                temperature=0,  \n",
    "                                            )\n",
    "    \n",
    "    return response.choices[0].message"
   ]
  },
  {
   "cell_type": "markdown",
   "metadata": {},
   "source": [
    "### Prompting Engineering Intro"
   ]
  },
  {
   "cell_type": "code",
   "execution_count": 4,
   "metadata": {},
   "outputs": [
    {
     "name": "stdout",
     "output_type": "stream",
     "text": [
      "ChatCompletionMessage(content='The text advises to provide clear and specific instructions to guide the model towards the desired output, emphasizing that longer prompts can provide more clarity and context for more detailed and relevant responses.', role='assistant', function_call=None, tool_calls=None)\n",
      "The text advises to provide clear and specific instructions to guide the model towards the desired output, emphasizing that longer prompts can provide more clarity and context for more detailed and relevant responses.\n"
     ]
    }
   ],
   "source": [
    "text = \"\"\"\n",
    "You should express what you want a model to do by \\\n",
    "providing instructions that are as clear and \\\n",
    "specific as you can possibly make them. \\\n",
    "This will guide the model towards the desired output, \\\n",
    "and reduce the chances of receiving irrelevant \\\n",
    "or incorrect responses. Don't confuse writing a \\\n",
    "clear prompt with writing a short prompt. \\\n",
    "In many cases, longer prompts provide more clarity \\\n",
    "and context for the model, which can lead to \\\n",
    "more detailed and relevant outputs.\n",
    "\"\"\"\n",
    "\n",
    "prompt = \"Summarize the text delimited by triple backticks into a single sentence\"\n",
    "response = get_completion(prompt,text)\n",
    "print(response)\n",
    "print(response.content)"
   ]
  },
  {
   "cell_type": "code",
   "execution_count": 5,
   "metadata": {},
   "outputs": [
    {
     "name": "stdout",
     "output_type": "stream",
     "text": [
      "ChatCompletionMessage(content='{\\n  \"books\": [\\n    {\\n      \"book_id\": 1,\\n      \"title\": \"The Enigma of Elysium\",\\n      \"author\": \"Aria Nightshade\",\\n      \"genre\": \"Fantasy\"\\n    },\\n    {\\n      \"book_id\": 2,\\n      \"title\": \"The Midnight Cipher\",\\n      \"author\": \"Elijah Blackwood\",\\n      \"genre\": \"Mystery\"\\n    },\\n    {\\n      \"book_id\": 3,\\n      \"title\": \"Echoes of the Forgotten\",\\n      \"author\": \"Luna Evergreen\",\\n      \"genre\": \"Romance\"\\n    }\\n  ]\\n}', role='assistant', function_call=None, tool_calls=None)\n",
      "{\n",
      "  \"books\": [\n",
      "    {\n",
      "      \"book_id\": 1,\n",
      "      \"title\": \"The Enigma of Elysium\",\n",
      "      \"author\": \"Aria Nightshade\",\n",
      "      \"genre\": \"Fantasy\"\n",
      "    },\n",
      "    {\n",
      "      \"book_id\": 2,\n",
      "      \"title\": \"The Midnight Cipher\",\n",
      "      \"author\": \"Elijah Blackwood\",\n",
      "      \"genre\": \"Mystery\"\n",
      "    },\n",
      "    {\n",
      "      \"book_id\": 3,\n",
      "      \"title\": \"Echoes of the Forgotten\",\n",
      "      \"author\": \"Luna Evergreen\",\n",
      "      \"genre\": \"Romance\"\n",
      "    }\n",
      "  ]\n",
      "}\n"
     ]
    }
   ],
   "source": [
    "prompt = f\"\"\"\n",
    "Generate a list of three made-up book titles along \\ \n",
    "with their authors and genres. \n",
    "Provide them in JSON format with the following keys: \n",
    "book_id, title, author, genre.\n",
    "\"\"\"\n",
    "response = get_completion(prompt, text)\n",
    "print(response)\n",
    "print(response.content)"
   ]
  },
  {
   "cell_type": "code",
   "execution_count": 6,
   "metadata": {},
   "outputs": [
    {
     "name": "stdout",
     "output_type": "stream",
     "text": [
      "ChatCompletionMessage(content=\"Step 1 - The sun is shining brightly today, and the birds are singing.\\nStep 2 - It's a beautiful day to go for a walk in the park.\\nStep 3 - The flowers are blooming, and the trees are swaying gently in the breeze.\\nStep 4 - People are out and about, enjoying the lovely weather.\\nStep 5 - Some are having picnics, while others are playing games or simply relaxing on the grass.\\nStep 6 - It's a perfect day to spend time outdoors and appreciate the beauty of nature.\", role='assistant', function_call=None, tool_calls=None)\n",
      "Step 1 - The sun is shining brightly today, and the birds are singing.\n",
      "Step 2 - It's a beautiful day to go for a walk in the park.\n",
      "Step 3 - The flowers are blooming, and the trees are swaying gently in the breeze.\n",
      "Step 4 - People are out and about, enjoying the lovely weather.\n",
      "Step 5 - Some are having picnics, while others are playing games or simply relaxing on the grass.\n",
      "Step 6 - It's a perfect day to spend time outdoors and appreciate the beauty of nature.\n"
     ]
    }
   ],
   "source": [
    "text = f\"\"\"\n",
    "The sun is shining brightly today, and the birds are \\\n",
    "singing. It's a beautiful day to go for a \\ \n",
    "walk in the park. The flowers are blooming, and the \\ \n",
    "trees are swaying gently in the breeze. People \\ \n",
    "are out and about, enjoying the lovely weather. \\ \n",
    "Some are having picnics, while others are playing \\ \n",
    "games or simply relaxing on the grass. It's a \\ \n",
    "perfect day to spend time outdoors and appreciate the \\ \n",
    "beauty of nature.\n",
    "\"\"\"\n",
    "prompt = f\"\"\"\n",
    "You will be provided with text delimited by triple quotes. \n",
    "If it contains a sequence of instructions, \\ \n",
    "re-write those instructions in the following format:\n",
    "\n",
    "Step 1 - ...\n",
    "Step 2 - …\n",
    "…\n",
    "Step N - …\n",
    "\"\"\"\n",
    "response = get_completion(prompt, text)\n",
    "print(response)\n",
    "print(response.content)"
   ]
  },
  {
   "cell_type": "code",
   "execution_count": 7,
   "metadata": {},
   "outputs": [
    {
     "name": "stdout",
     "output_type": "stream",
     "text": [
      "ChatCompletionMessage(content='Text: In a charming village, siblings Jack and Jill set out on a quest to fetch water from a hilltop well, but they had a mishap along the way.\\n\\nSummary: Jack and Jill, siblings from a charming village, went on a quest to fetch water from a hilltop well, but had a mishap.\\n\\nTranslation: Jack et Jill, frère et sœur d\\'un charmant village, se sont lancés dans une quête pour aller chercher de l\\'eau d\\'un puits au sommet d\\'une colline, mais ils ont eu un accident.\\n\\nNames: Jack, Jill\\n\\nOutput JSON: {\"french_summary\": \"Jack et Jill, frère et sœur d\\'un charmant village, se sont lancés dans une quête pour aller chercher de l\\'eau d\\'un puits au sommet d\\'une colline, mais ils ont eu un accident.\", \"num_names\": 2}', role='assistant', function_call=None, tool_calls=None)\n",
      "Text: In a charming village, siblings Jack and Jill set out on a quest to fetch water from a hilltop well, but they had a mishap along the way.\n",
      "\n",
      "Summary: Jack and Jill, siblings from a charming village, went on a quest to fetch water from a hilltop well, but had a mishap.\n",
      "\n",
      "Translation: Jack et Jill, frère et sœur d'un charmant village, se sont lancés dans une quête pour aller chercher de l'eau d'un puits au sommet d'une colline, mais ils ont eu un accident.\n",
      "\n",
      "Names: Jack, Jill\n",
      "\n",
      "Output JSON: {\"french_summary\": \"Jack et Jill, frère et sœur d'un charmant village, se sont lancés dans une quête pour aller chercher de l'eau d'un puits au sommet d'une colline, mais ils ont eu un accident.\", \"num_names\": 2}\n"
     ]
    }
   ],
   "source": [
    "text = f\"\"\"\n",
    "In a charming village, siblings Jack and Jill set out on \\ \n",
    "a quest to fetch water from a hilltop \\ \n",
    "well. As they climbed, singing joyfully, misfortune \\ \n",
    "struck—Jack tripped on a stone and tumbled \\ \n",
    "down the hill, with Jill following suit. \\ \n",
    "Though slightly battered, the pair returned home to \\ \n",
    "comforting embraces. Despite the mishap, \\ \n",
    "their adventurous spirits remained undimmed, and they \\ \n",
    "continued exploring with delight.\n",
    "\"\"\"\n",
    "prompt = f\"\"\"\n",
    "Your task is to perform the following actions: \n",
    "1 - Summarize the following text delimited by \n",
    "  <> with 1 sentence.\n",
    "2 - Translate the summary into French.\n",
    "3 - List each name in the French summary.\n",
    "4 - Output a json object that contains the \n",
    "  following keys: french_summary, num_names.\n",
    "\n",
    "Use the following format:\n",
    "Text: <text to summarize>\n",
    "Summary: <summary>\n",
    "Translation: <summary translation>\n",
    "Names: <list of names in summary>\n",
    "Output JSON: <json with summary and num_names>\n",
    "\"\"\"\n",
    "response = get_completion(prompt, text)\n",
    "print(response)\n",
    "print(response.content)"
   ]
  }
 ],
 "metadata": {
  "kernelspec": {
   "display_name": "base",
   "language": "python",
   "name": "python3"
  },
  "language_info": {
   "codemirror_mode": {
    "name": "ipython",
    "version": 3
   },
   "file_extension": ".py",
   "mimetype": "text/x-python",
   "name": "python",
   "nbconvert_exporter": "python",
   "pygments_lexer": "ipython3",
   "version": "3.11.5"
  }
 },
 "nbformat": 4,
 "nbformat_minor": 2
}

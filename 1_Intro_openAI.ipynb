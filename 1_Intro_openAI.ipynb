{
 "cells": [
  {
   "cell_type": "code",
   "execution_count": 2,
   "metadata": {},
   "outputs": [],
   "source": [
    "import os\n",
    "import openai\n",
    "from openai import OpenAI\n",
    "from api_key import API_KEY\n",
    "#\n",
    "# openai.api_key = API_KEY\n",
    "# openai.api_key = os.getenv('OPENAI_API_KEY')"
   ]
  },
  {
   "cell_type": "code",
   "execution_count": 3,
   "metadata": {},
   "outputs": [
    {
     "name": "stdout",
     "output_type": "stream",
     "text": [
      "ChatCompletionMessage(content=\"In the realm of code, where logic lies,\\nA tale of recursion shall now arise.\\nA concept profound, both strange and true,\\nLet me bring it to light, as I paint it for you.\\n\\nOnce upon a time, in lines of code serene,\\nA function called itself, as if in a dream.\\nAn illusion embraced, a mirrored glance,\\nDefying the chains of the linear dance.\\n\\nLike a fractal pattern, endlessly grand,\\nRecursion begins with a simple command.\\nA problem, divided into smaller strife,\\nCrumbles like leaves, ensuring a balanced life.\\n\\nThe function weaves a tale of repetition,\\nWhere solutions sprout without inhibition.\\nA leap of faith, a dance of repetition,\\nUnfolding possibilities without condition.\\n\\nWith every call, a journey anew,\\nThe function's power grows, steadfast and true.\\nEach iteration, a treasure untold,\\nExpanding possibilities, ever bold.\\n\\nYet beware the infinite loop, my friend,\\nA tangled script that knows no end.\\nLike a siren's song, it lures you astray,\\nTo the depths of time, where logic will fray.\\n\\nRecursion brings forth a mystical art,\\nUnfolding mysteries, piece by part.\\nWith elegance and grace, it performs its role,\\nFrom the smallest task to the biggest goal.\\n\\nSo let us embrace this concept divine,\\nUnraveling puzzles, one line at a time.\\nFor in the world of code, recursion is the key,\\nUnlocking endless wonders, for you and me.\", role='assistant', function_call=None, tool_calls=None)\n"
     ]
    }
   ],
   "source": [
    "# Replace 'your-api-key' with your actual OpenAI API key\n",
    "client = OpenAI(api_key=API_KEY)\n",
    "\n",
    "\n",
    "completion = client.chat.completions.create(\n",
    "    model=\"gpt-3.5-turbo\",\n",
    "    messages=[\n",
    "        {\"role\": \"system\", \"content\": \"You are a poetic assistant, skilled in explaining complex programming concepts with creative flair.\"},\n",
    "        {\"role\": \"user\", \"content\": \"Compose a poem that explains the concept of recursion in programming.\"}\n",
    "    ]\n",
    ")\n",
    "\n",
    "print(completion.choices[0].message)"
   ]
  },
  {
   "cell_type": "code",
   "execution_count": 4,
   "metadata": {},
   "outputs": [],
   "source": [
    "client = OpenAI(api_key=API_KEY)\n",
    "def get_completion(text,prompt, model=\"gpt-3.5-turbo\"):\n",
    "    \n",
    "    messages = [{\"role\": \"system\", \"content\": text},\n",
    "                {\"role\": \"system\", \"content\": prompt}]\n",
    "    \n",
    "    response = client.chat.completions.create(\n",
    "                                                model=model,\n",
    "                                                messages=messages,\n",
    "                                                # this is the degree of randomness of the model's output\n",
    "                                                temperature=0,  \n",
    "                                            )\n",
    "    \n",
    "    return response.choices[0].message"
   ]
  },
  {
   "cell_type": "markdown",
   "metadata": {},
   "source": [
    "### Prompting Engineering Intro"
   ]
  },
  {
   "cell_type": "code",
   "execution_count": 5,
   "metadata": {},
   "outputs": [
    {
     "name": "stdout",
     "output_type": "stream",
     "text": [
      "ChatCompletionMessage(content='The prompt should be clear and specific to guide the model towards the desired output, and longer prompts can provide more clarity and context for more detailed and relevant responses.', role='assistant', function_call=None, tool_calls=None)\n",
      "The prompt should be clear and specific to guide the model towards the desired output, and longer prompts can provide more clarity and context for more detailed and relevant responses.\n"
     ]
    }
   ],
   "source": [
    "text = \"\"\"\n",
    "You should express what you want a model to do by \\\n",
    "providing instructions that are as clear and \\\n",
    "specific as you can possibly make them. \\\n",
    "This will guide the model towards the desired output, \\\n",
    "and reduce the chances of receiving irrelevant \\\n",
    "or incorrect responses. Don't confuse writing a \\\n",
    "clear prompt with writing a short prompt. \\\n",
    "In many cases, longer prompts provide more clarity \\\n",
    "and context for the model, which can lead to \\\n",
    "more detailed and relevant outputs.\n",
    "\"\"\"\n",
    "\n",
    "prompt = \"Summarize the text delimited by triple backticks into a single sentence\"\n",
    "response = get_completion(prompt,text)\n",
    "print(response)\n",
    "print(response.content)"
   ]
  },
  {
   "cell_type": "code",
   "execution_count": 6,
   "metadata": {},
   "outputs": [
    {
     "name": "stdout",
     "output_type": "stream",
     "text": [
      "ChatCompletionMessage(content='{\\n  \"books\": [\\n    {\\n      \"book_id\": 1,\\n      \"title\": \"The Enigma of Elysium\",\\n      \"author\": \"Aria Nightshade\",\\n      \"genre\": \"Fantasy\"\\n    },\\n    {\\n      \"book_id\": 2,\\n      \"title\": \"The Silent Symphony\",\\n      \"author\": \"Evelyn Rivers\",\\n      \"genre\": \"Mystery\"\\n    },\\n    {\\n      \"book_id\": 3,\\n      \"title\": \"Beyond the Stars\",\\n      \"author\": \"Maxwell Steele\",\\n      \"genre\": \"Science Fiction\"\\n    }\\n  ]\\n}', role='assistant', function_call=None, tool_calls=None)\n",
      "{\n",
      "  \"books\": [\n",
      "    {\n",
      "      \"book_id\": 1,\n",
      "      \"title\": \"The Enigma of Elysium\",\n",
      "      \"author\": \"Aria Nightshade\",\n",
      "      \"genre\": \"Fantasy\"\n",
      "    },\n",
      "    {\n",
      "      \"book_id\": 2,\n",
      "      \"title\": \"The Silent Symphony\",\n",
      "      \"author\": \"Evelyn Rivers\",\n",
      "      \"genre\": \"Mystery\"\n",
      "    },\n",
      "    {\n",
      "      \"book_id\": 3,\n",
      "      \"title\": \"Beyond the Stars\",\n",
      "      \"author\": \"Maxwell Steele\",\n",
      "      \"genre\": \"Science Fiction\"\n",
      "    }\n",
      "  ]\n",
      "}\n"
     ]
    }
   ],
   "source": [
    "prompt = f\"\"\"\n",
    "Generate a list of three made-up book titles along \\ \n",
    "with their authors and genres. \n",
    "Provide them in JSON format with the following keys: \n",
    "book_id, title, author, genre.\n",
    "\"\"\"\n",
    "response = get_completion(prompt, text)\n",
    "print(response)\n",
    "print(response.content)"
   ]
  },
  {
   "cell_type": "code",
   "execution_count": 7,
   "metadata": {},
   "outputs": [
    {
     "name": "stdout",
     "output_type": "stream",
     "text": [
      "ChatCompletionMessage(content=\"Step 1 - The sun is shining brightly today, and the birds are singing.\\nStep 2 - It's a beautiful day to go for a walk in the park.\\nStep 3 - The flowers are blooming, and the trees are swaying gently in the breeze.\\nStep 4 - People are out and about, enjoying the lovely weather.\\nStep 5 - Some are having picnics, while others are playing games or simply relaxing on the grass.\\nStep 6 - It's a perfect day to spend time outdoors and appreciate the beauty of nature.\", role='assistant', function_call=None, tool_calls=None)\n",
      "Step 1 - The sun is shining brightly today, and the birds are singing.\n",
      "Step 2 - It's a beautiful day to go for a walk in the park.\n",
      "Step 3 - The flowers are blooming, and the trees are swaying gently in the breeze.\n",
      "Step 4 - People are out and about, enjoying the lovely weather.\n",
      "Step 5 - Some are having picnics, while others are playing games or simply relaxing on the grass.\n",
      "Step 6 - It's a perfect day to spend time outdoors and appreciate the beauty of nature.\n"
     ]
    }
   ],
   "source": [
    "text = f\"\"\"\n",
    "The sun is shining brightly today, and the birds are \\\n",
    "singing. It's a beautiful day to go for a \\ \n",
    "walk in the park. The flowers are blooming, and the \\ \n",
    "trees are swaying gently in the breeze. People \\ \n",
    "are out and about, enjoying the lovely weather. \\ \n",
    "Some are having picnics, while others are playing \\ \n",
    "games or simply relaxing on the grass. It's a \\ \n",
    "perfect day to spend time outdoors and appreciate the \\ \n",
    "beauty of nature.\n",
    "\"\"\"\n",
    "prompt = f\"\"\"\n",
    "You will be provided with text delimited by triple quotes. \n",
    "If it contains a sequence of instructions, \\ \n",
    "re-write those instructions in the following format:\n",
    "\n",
    "Step 1 - ...\n",
    "Step 2 - …\n",
    "…\n",
    "Step N - …\n",
    "\"\"\"\n",
    "response = get_completion(prompt, text)\n",
    "print(response)\n",
    "print(response.content)"
   ]
  },
  {
   "cell_type": "code",
   "execution_count": 8,
   "metadata": {},
   "outputs": [
    {
     "name": "stdout",
     "output_type": "stream",
     "text": [
      "ChatCompletionMessage(content='Summary: Jack and Jill, siblings from a charming village, go on a quest to fetch water from a hilltop well, but encounter misfortune along the way.\\n\\nTranslation: Jack et Jill, frère et sœur d\\'un charmant village, partent en quête d\\'eau d\\'un puits au sommet d\\'une colline, mais rencontrent des malheurs en chemin.\\n\\nNames: Jack, Jill\\n\\nOutput JSON: {\"french_summary\": \"Jack et Jill, frère et sœur d\\'un charmant village, partent en quête d\\'eau d\\'un puits au sommet d\\'une colline, mais rencontrent des malheurs en chemin.\", \"num_names\": 2}', role='assistant', function_call=None, tool_calls=None)\n",
      "Summary: Jack and Jill, siblings from a charming village, go on a quest to fetch water from a hilltop well, but encounter misfortune along the way.\n",
      "\n",
      "Translation: Jack et Jill, frère et sœur d'un charmant village, partent en quête d'eau d'un puits au sommet d'une colline, mais rencontrent des malheurs en chemin.\n",
      "\n",
      "Names: Jack, Jill\n",
      "\n",
      "Output JSON: {\"french_summary\": \"Jack et Jill, frère et sœur d'un charmant village, partent en quête d'eau d'un puits au sommet d'une colline, mais rencontrent des malheurs en chemin.\", \"num_names\": 2}\n"
     ]
    }
   ],
   "source": [
    "text = f\"\"\"\n",
    "In a charming village, siblings Jack and Jill set out on \\ \n",
    "a quest to fetch water from a hilltop \\ \n",
    "well. As they climbed, singing joyfully, misfortune \\ \n",
    "struck—Jack tripped on a stone and tumbled \\ \n",
    "down the hill, with Jill following suit. \\ \n",
    "Though slightly battered, the pair returned home to \\ \n",
    "comforting embraces. Despite the mishap, \\ \n",
    "their adventurous spirits remained undimmed, and they \\ \n",
    "continued exploring with delight.\n",
    "\"\"\"\n",
    "prompt = f\"\"\"\n",
    "Your task is to perform the following actions: \n",
    "1 - Summarize the following text delimited by \n",
    "  <> with 1 sentence.\n",
    "2 - Translate the summary into French.\n",
    "3 - List each name in the French summary.\n",
    "4 - Output a json object that contains the \n",
    "  following keys: french_summary, num_names.\n",
    "\n",
    "Use the following format:\n",
    "Text: <text to summarize>\n",
    "Summary: <summary>\n",
    "Translation: <summary translation>\n",
    "Names: <list of names in summary>\n",
    "Output JSON: <json with summary and num_names>\n",
    "\"\"\"\n",
    "response = get_completion(prompt, text)\n",
    "print(response)\n",
    "print(response.content)"
   ]
  }
 ],
 "metadata": {
  "kernelspec": {
   "display_name": "base",
   "language": "python",
   "name": "python3"
  },
  "language_info": {
   "codemirror_mode": {
    "name": "ipython",
    "version": 3
   },
   "file_extension": ".py",
   "mimetype": "text/x-python",
   "name": "python",
   "nbconvert_exporter": "python",
   "pygments_lexer": "ipython3",
   "version": "3.11.5"
  }
 },
 "nbformat": 4,
 "nbformat_minor": 2
}
